{
 "cells": [
  {
   "cell_type": "markdown",
   "metadata": {},
   "source": [
    "# Introduction to `ELAN_Data`\n",
    "***\n",
    "[Alejandro Ciuba](https://alejandrociuba.github.io), alejandrociuba@pitt.edu\n",
    "***\n",
    "## Introduction\n",
    "This is the first of several notebooks which will get the reader familiarized with the Python package `ELAN_Data` and its various capabilities. For these tutorials, we will utilize the Corpus of Regional African American Language ([CORAAL](http://lingtools.uoregon.edu/coraal/)); specifically, we will use the `ATL_elanfiles_2020.05.tar.gz`. Please download and unzip this dataset into the dataset folder.\n",
    "\n",
    "## Table of Contents\n",
    "1. [The Basics](#the-basics)\n",
    "2. Loading in Files\n",
    "3. `ELAN_Data`\n",
    "4. Advanced `ELAN_Data`\n",
    "5. `elan_utils`\n",
    "***\n",
    "## Necessary Imports"
   ]
  },
  {
   "cell_type": "code",
   "execution_count": 14,
   "metadata": {},
   "outputs": [],
   "source": [
    "from elan_data import ELAN_Data\n",
    "from pathlib import Path\n",
    "\n",
    "import nltk\n",
    "import re\n",
    "\n",
    "import pandas as pd"
   ]
  },
  {
   "cell_type": "markdown",
   "metadata": {},
   "source": [
    "***\n",
    "## The Basics\n",
    "The `elan_data` package is made of two primary Python files structured as follows:\n",
    "\n",
    "```\n",
    "src\n",
    "└── elan_data\n",
    "    ├── elan_utils.py\n",
    "    ├── __init__.py\n",
    "    └── py.typed\n",
    "```\n",
    "\n",
    "### Files\n",
    "| Name | Description |\n",
    "| :--- | ----------- |\n",
    "| `elan_utils.py` | Contains helper methods that work with `ELAN_Data` and are planned to be adaptable to be more general purpose tools as well. |\n",
    "| `__init__.py` | Contains the main `ELAN_Data` code. |\n",
    "| `py.typed` | This literally does nothing but is needed so our testing framework won't be mad. >:( |\n",
    "\n",
    "### Simple Code\n",
    "To start using `elan_data` simply import its main module, `ELAN_Data` and either load-in or create an instance. To load-in a pre-existing file:"
   ]
  },
  {
   "cell_type": "code",
   "execution_count": 4,
   "metadata": {},
   "outputs": [
    {
     "name": "stdout",
     "output_type": "stream",
     "text": [
      "Path to .eaf file is datasets/ATL_se0_ag1_f_01_1.eaf\n"
     ]
    }
   ],
   "source": [
    "# Load in ATL_se0_ag1_f_01_1.eaf from the downloaded dataset\n",
    "# We recommend using Path to store and modify file paths; it's an official Python package and very robust\n",
    "FILE = \"./datasets/ATL_se0_ag1_f_01_1.eaf\"\n",
    "PATH = Path(FILE)\n",
    "\n",
    "print(f\"Path to .eaf file is {PATH}\")\n",
    "\n",
    "# Load in as an ELAN_Data instance\n",
    "eaf = ELAN_Data.from_file(file=PATH)"
   ]
  },
  {
   "cell_type": "markdown",
   "metadata": {},
   "source": [
    "When you run `print(eaf)`, you'll get the following information:\n",
    "- The local path to the associated `eaf` file.\n",
    "- The absolute path with any backtracking (i.e. `../`); the *unresolved* file path.\n",
    "- The name of all the tiers\n",
    "- The name and location of any associated audio file (if there is one).\n",
    "- If the associated `pd.DataFrame` has been updated (defaults to `False`).\n",
    "- If this current instance has been modified since its creation (defaults to `False`)."
   ]
  },
  {
   "cell_type": "code",
   "execution_count": 3,
   "metadata": {},
   "outputs": [
    {
     "name": "stdout",
     "output_type": "stream",
     "text": [
      "name: ATL_se0_ag1_f_01_1.eaf\n",
      "located at: /home/computer_cat/Documents/Programs/Python/elan_data/tutorials/datasets/ATL_se0_ag1_f_01_1.eaf\n",
      "tiers: ATL_se0_ag1_f_01, ATL_int_01\n",
      "associated audio file: None\n",
      "associated audio location: None\n",
      "dataframe init: False\n",
      "modified: False\n",
      "\n"
     ]
    }
   ],
   "source": [
    "print(eaf)"
   ]
  },
  {
   "cell_type": "markdown",
   "metadata": {},
   "source": [
    "To initial the instance's `pd.DataFrame`, either specify it by setting `init_df=True` in any of its [**constructor**](https://www.geeksforgeeks.org/constructors-in-python/) methods or by running `eaf.init_dataframe()`."
   ]
  },
  {
   "cell_type": "code",
   "execution_count": 5,
   "metadata": {},
   "outputs": [
    {
     "name": "stdout",
     "output_type": "stream",
     "text": [
      "               TIER_ID    START     STOP  \\\n",
      "0     ATL_se0_ag1_f_01        0      444   \n",
      "1     ATL_se0_ag1_f_01      444     2407   \n",
      "2     ATL_se0_ag1_f_01     2407     2683   \n",
      "3     ATL_se0_ag1_f_01     2683     4954   \n",
      "4     ATL_se0_ag1_f_01     4954     5149   \n",
      "...                ...      ...      ...   \n",
      "1773        ATL_int_01  1856180  1856347   \n",
      "1774        ATL_int_01  1856347  1857625   \n",
      "1775        ATL_int_01  1857625  1859418   \n",
      "1776        ATL_int_01  1859418  1862488   \n",
      "1777        ATL_int_01  1862488  1863000   \n",
      "\n",
      "                                                   TEXT SEGMENT_ID  DURATION  \n",
      "0                                                               a1       444  \n",
      "1      They talking about, don't send him to his daddy.         a2      1963  \n",
      "2                                                               a3       276  \n",
      "3           You just need to go file for child support.         a4      2271  \n",
      "4                                                               a5       195  \n",
      "...                                                 ...        ...       ...  \n",
      "1773                                                         a1774       167  \n",
      "1774                        Yeah let me- let me see it.      a1775      1278  \n",
      "1775                                                         a1776      1793  \n",
      "1776  My phone all the way- it- And the charger righ...      a1777      3070  \n",
      "1777                                                         a1778       512  \n",
      "\n",
      "[1778 rows x 6 columns]\n"
     ]
    }
   ],
   "source": [
    "eaf.init_dataframe()\n",
    "print(eaf.tier_data)"
   ]
  },
  {
   "cell_type": "code",
   "execution_count": 6,
   "metadata": {},
   "outputs": [
    {
     "data": {
      "text/plain": [
       "Index(['TIER_ID', 'START', 'STOP', 'TEXT', 'SEGMENT_ID', 'DURATION'], dtype='object')"
      ]
     },
     "execution_count": 6,
     "metadata": {},
     "output_type": "execute_result"
    }
   ],
   "source": [
    "eaf.tier_data.columns"
   ]
  },
  {
   "cell_type": "markdown",
   "metadata": {},
   "source": [
    "The dataframe is structured such that each row is a single segment and has the following data assoiated with its entry:\n",
    "- `TIER_ID`: The name of the tier the segment is on.\n",
    "- `START`: The start (in milliseconds) of the segment from the audio's beginning.\n",
    "- `STOP`: The end (in milliseconds) of the segment from the audio's beginning.\n",
    "- `TEXT`: The text inside the segment (an empty string if there was none).\n",
    "- `SEGMENT_ID`: The ID's segment in the `eaf` file.\n",
    "- `DURATION`: How long the segment lasts (in milliseconds).\n",
    "\n",
    "This dataframe is completely modifiable. Although you must be careful as some methods rely on (at least) these columns being guaranteed to exist in an `ELAN_Data` instance's dataframe once initialized. From this dataframe, we can gather useful statistics about the file."
   ]
  },
  {
   "cell_type": "code",
   "execution_count": 11,
   "metadata": {},
   "outputs": [
    {
     "data": {
      "text/plain": [
       "<AxesSubplot:>"
      ]
     },
     "execution_count": 11,
     "metadata": {},
     "output_type": "execute_result"
    },
    {
     "data": {
      "image/png": "[encoded data removed]",
      "text/plain": [
       "<Figure size 432x288 with 1 Axes>"
      ]
     },
     "metadata": {
      "needs_background": "light"
     },
     "output_type": "display_data"
    }
   ],
   "source": [
    "# Plot a histogram of segment duration times\n",
    "eaf.tier_data.DURATION.hist()"
   ]
  },
  {
   "cell_type": "code",
   "execution_count": 12,
   "metadata": {},
   "outputs": [
    {
     "data": {
      "text/plain": [
       "ATL_int_01          921\n",
       "ATL_se0_ag1_f_01    857\n",
       "Name: TIER_ID, dtype: int64"
      ]
     },
     "execution_count": 12,
     "metadata": {},
     "output_type": "execute_result"
    }
   ],
   "source": [
    "# Get the number of segments per tier\n",
    "eaf.tier_data.TIER_ID.value_counts()"
   ]
  },
  {
   "cell_type": "code",
   "execution_count": 24,
   "metadata": {},
   "outputs": [
    {
     "name": "stdout",
     "output_type": "stream",
     "text": [
      "              TIER_ID   START    STOP                   TEXT SEGMENT_ID  \\\n",
      "479  ATL_se0_ag1_f_01  920068  921296  cause I love to sing.       a480   \n",
      "\n",
      "     DURATION                         TOKENS  \n",
      "479      1228  [cause, I, love, to, sing, .]  \n"
     ]
    }
   ],
   "source": [
    "# Lastly, let's combine this package with nltk to get the top 20 most used words\n",
    "df = eaf.tier_data.copy()\n",
    "\n",
    "# Also filters out the brackets and empty TEXT entries get an empty list\n",
    "df['TOKENS'] = df.TEXT.map(lambda x: [c for c in nltk.word_tokenize(x) if c not in \"[]\"])\n",
    "\n",
    "print(df.sample(1))"
   ]
  },
  {
   "cell_type": "code",
   "execution_count": 36,
   "metadata": {},
   "outputs": [
    {
     "data": {
      "text/plain": [
       "<AxesSubplot:>"
      ]
     },
     "execution_count": 36,
     "metadata": {},
     "output_type": "execute_result"
    },
    {
     "data": {
      "image/png": "[encoded data removed]",
      "text/plain": [
       "<Figure size 432x288 with 1 Axes>"
      ]
     },
     "metadata": {
      "needs_background": "light"
     },
     "output_type": "display_data"
    }
   ],
   "source": [
    "df[df.TOKENS.astype(str) != '[]'].TOKENS.value_counts().head(20).plot(kind=\"bar\")"
   ]
  }
 ],
 "metadata": {
  "kernelspec": {
   "display_name": "elan_data",
   "language": "python",
   "name": "python3"
  },
  "language_info": {
   "codemirror_mode": {
    "name": "ipython",
    "version": 3
   },
   "file_extension": ".py",
   "mimetype": "text/x-python",
   "name": "python",
   "nbconvert_exporter": "python",
   "pygments_lexer": "ipython3",
   "version": "3.7.16"
  },
  "orig_nbformat": 4
 },
 "nbformat": 4,
 "nbformat_minor": 2
}
