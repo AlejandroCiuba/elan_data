{
 "cells": [
  {
   "cell_type": "markdown",
   "metadata": {},
   "source": [
    "# Introduction to `ELAN_Data`\n",
    "***\n",
    "[Alejandro Ciuba](https://alejandrociuba.github.io), alejandrociuba@pitt.edu\n",
    "***\n",
    "## Introduction\n",
    "This is the first of several notebooks which will get the reader familiarized with the Python package `ELAN_Data` and its various capabilities. For these tutorials, we will utilize the Corpus of Regional African American Language ([CORAAL](http://lingtools.uoregon.edu/coraal/)); specifically, we will use the `ATL_elanfiles_2020.05.tar.gz`. Please download and unzip this dataset into the dataset folder.\n",
    "\n",
    "## Table of Contents\n",
    "1. [The Basics](#the-basics)\n",
    "2. [Loading, Creating & Saving Files](#loading-creating--saving-files)\n",
    "3. `ELAN_Data`\n",
    "4. Advanced `ELAN_Data`\n",
    "5. `elan_utils`\n",
    "***\n",
    "## Necessary Imports"
   ]
  },
  {
   "cell_type": "code",
   "execution_count": 1,
   "metadata": {},
   "outputs": [],
   "source": [
    "from elan_data import ELAN_Data\n",
    "from pathlib import Path\n",
    "\n",
    "import nltk\n",
    "import re\n",
    "\n",
    "import pandas as pd"
   ]
  },
  {
   "cell_type": "markdown",
   "metadata": {},
   "source": [
    "***\n",
    "## The Basics\n",
    "The `elan_data` package is made of two primary Python files structured as follows:\n",
    "\n",
    "```\n",
    "src\n",
    "└── elan_data\n",
    "    ├── elan_utils.py\n",
    "    ├── __init__.py\n",
    "    └── py.typed\n",
    "```\n",
    "\n",
    "### Files\n",
    "| Name | Description |\n",
    "| :--- | ----------- |\n",
    "| `elan_utils.py` | Contains helper methods that work with `ELAN_Data` and are planned to be adaptable to be more general purpose tools as well. |\n",
    "| `__init__.py` | Contains the main `ELAN_Data` code. |\n",
    "| `py.typed` | This literally does nothing but is needed so our testing framework won't be mad. >:( |\n",
    "\n",
    "### Simple Code\n",
    "To start using `elan_data` simply import its main module, `ELAN_Data` and either load-in or create an instance. To load in a pre-existing file:"
   ]
  },
  {
   "cell_type": "code",
   "execution_count": 2,
   "metadata": {},
   "outputs": [
    {
     "name": "stdout",
     "output_type": "stream",
     "text": [
      "Path to .eaf file is datasets/ATL_se0_ag1_f_01_1.eaf\n"
     ]
    }
   ],
   "source": [
    "# Load in ATL_se0_ag1_f_01_1.eaf from the downloaded dataset\n",
    "# We recommend using Path to store and modify file paths; it's an official Python package and very robust\n",
    "FILE = \"./datasets/ATL_se0_ag1_f_01_1.eaf\"\n",
    "PATH = Path(FILE)\n",
    "\n",
    "print(f\"Path to .eaf file is {PATH}\")\n",
    "\n",
    "# Load in as an ELAN_Data instance\n",
    "eaf = ELAN_Data.from_file(file=PATH)"
   ]
  },
  {
   "cell_type": "markdown",
   "metadata": {},
   "source": [
    "When you run `print(eaf)`, you'll get the following information:\n",
    "- The local path to the associated *ELAN* file.\n",
    "- The absolute path with any backtracking (i.e. `../`); the *unresolved* file path.\n",
    "- The name of all the tiers.\n",
    "- The name and location of any associated audio file (if there is one).\n",
    "- If the associated `pd.DataFrame` has been updated (defaults to `False`).\n",
    "- If this current instance has been modified since its creation (defaults to `False`)."
   ]
  },
  {
   "cell_type": "code",
   "execution_count": 3,
   "metadata": {},
   "outputs": [
    {
     "name": "stdout",
     "output_type": "stream",
     "text": [
      "name: ATL_se0_ag1_f_01_1.eaf\n",
      "located at: /home/computer_cat/Documents/Programs/Python/elan_data/tutorials/datasets/ATL_se0_ag1_f_01_1.eaf\n",
      "tiers: ATL_se0_ag1_f_01, ATL_int_01\n",
      "associated audio file: None\n",
      "associated audio location: None\n",
      "dataframe init: False\n",
      "modified: False\n",
      "\n"
     ]
    }
   ],
   "source": [
    "print(eaf)"
   ]
  },
  {
   "cell_type": "markdown",
   "metadata": {},
   "source": [
    "To initial the instance's `pd.DataFrame`, either specify it by setting `init_df=True` in any of its [**constructor**](https://www.geeksforgeeks.org/constructors-in-python/) methods or by running `eaf.init_dataframe()`."
   ]
  },
  {
   "cell_type": "code",
   "execution_count": 4,
   "metadata": {},
   "outputs": [
    {
     "name": "stdout",
     "output_type": "stream",
     "text": [
      "               TIER_ID    START     STOP  \\\n",
      "0     ATL_se0_ag1_f_01        0      444   \n",
      "1     ATL_se0_ag1_f_01      444     2407   \n",
      "2     ATL_se0_ag1_f_01     2407     2683   \n",
      "3     ATL_se0_ag1_f_01     2683     4954   \n",
      "4     ATL_se0_ag1_f_01     4954     5149   \n",
      "...                ...      ...      ...   \n",
      "1773        ATL_int_01  1856180  1856347   \n",
      "1774        ATL_int_01  1856347  1857625   \n",
      "1775        ATL_int_01  1857625  1859418   \n",
      "1776        ATL_int_01  1859418  1862488   \n",
      "1777        ATL_int_01  1862488  1863000   \n",
      "\n",
      "                                                   TEXT SEGMENT_ID  DURATION  \n",
      "0                                                               a1       444  \n",
      "1      They talking about, don't send him to his daddy.         a2      1963  \n",
      "2                                                               a3       276  \n",
      "3           You just need to go file for child support.         a4      2271  \n",
      "4                                                               a5       195  \n",
      "...                                                 ...        ...       ...  \n",
      "1773                                                         a1774       167  \n",
      "1774                        Yeah let me- let me see it.      a1775      1278  \n",
      "1775                                                         a1776      1793  \n",
      "1776  My phone all the way- it- And the charger righ...      a1777      3070  \n",
      "1777                                                         a1778       512  \n",
      "\n",
      "[1778 rows x 6 columns]\n"
     ]
    }
   ],
   "source": [
    "eaf.init_dataframe()\n",
    "print(eaf.tier_data)"
   ]
  },
  {
   "cell_type": "code",
   "execution_count": 5,
   "metadata": {},
   "outputs": [
    {
     "data": {
      "text/plain": [
       "Index(['TIER_ID', 'START', 'STOP', 'TEXT', 'SEGMENT_ID', 'DURATION'], dtype='object')"
      ]
     },
     "execution_count": 5,
     "metadata": {},
     "output_type": "execute_result"
    }
   ],
   "source": [
    "eaf.tier_data.columns"
   ]
  },
  {
   "cell_type": "markdown",
   "metadata": {},
   "source": [
    "The dataframe is structured such that each row is a single segment and has the following data assoiated with its entry:\n",
    "- `TIER_ID`: The name of the tier the segment is on.\n",
    "- `START`: The start (in milliseconds) of the segment from the audio's beginning.\n",
    "- `STOP`: The end (in milliseconds) of the segment from the audio's beginning.\n",
    "- `TEXT`: The text inside the segment (an empty string if there was none).\n",
    "- `SEGMENT_ID`: The ID's segment in the *ELAN* file.\n",
    "- `DURATION`: How long the segment lasts (in milliseconds).\n",
    "\n",
    "This dataframe is completely modifiable. Although you must be careful as some methods rely on these columns being guaranteed to exist in an `ELAN_Data` instance's dataframe once initialized. From this dataframe, we can gather useful statistics about the file."
   ]
  },
  {
   "cell_type": "code",
   "execution_count": 6,
   "metadata": {},
   "outputs": [
    {
     "data": {
      "text/plain": [
       "<Axes: >"
      ]
     },
     "execution_count": 6,
     "metadata": {},
     "output_type": "execute_result"
    },
    {
     "data": {
      "image/png": "[encoded data removed]",
      "text/plain": [
       "<Figure size 640x480 with 1 Axes>"
      ]
     },
     "metadata": {},
     "output_type": "display_data"
    }
   ],
   "source": [
    "# Plot a histogram of segment duration times\n",
    "eaf.tier_data.DURATION.hist()"
   ]
  },
  {
   "cell_type": "code",
   "execution_count": 7,
   "metadata": {},
   "outputs": [
    {
     "data": {
      "text/plain": [
       "TIER_ID\n",
       "ATL_int_01          921\n",
       "ATL_se0_ag1_f_01    857\n",
       "Name: count, dtype: int64"
      ]
     },
     "execution_count": 7,
     "metadata": {},
     "output_type": "execute_result"
    }
   ],
   "source": [
    "# Get the number of segments per tier\n",
    "eaf.tier_data.TIER_ID.value_counts()"
   ]
  },
  {
   "cell_type": "code",
   "execution_count": 8,
   "metadata": {},
   "outputs": [
    {
     "name": "stdout",
     "output_type": "stream",
     "text": [
      "        TIER_ID  START   STOP TEXT SEGMENT_ID  DURATION TOKENS\n",
      "917  ATL_int_01  92473  92944            a918       471     []\n"
     ]
    }
   ],
   "source": [
    "# Lastly, let's combine this package with nltk to get the top 20 most used words\n",
    "# Copy to not affect the eaf's underlying tier dataframe\n",
    "df = eaf.tier_data.copy()\n",
    "\n",
    "# Also filters out the brackets and empty TEXT entries get an empty list\n",
    "df['TOKENS'] = df.TEXT.map(lambda x: [c for c in nltk.word_tokenize(x) if c not in \"[]\"])\n",
    "\n",
    "print(df.sample(1))"
   ]
  },
  {
   "cell_type": "code",
   "execution_count": 9,
   "metadata": {},
   "outputs": [
    {
     "data": {
      "text/plain": [
       "<Axes: xlabel='TOKENS'>"
      ]
     },
     "execution_count": 9,
     "metadata": {},
     "output_type": "execute_result"
    },
    {
     "data": {
      "image/png": "[encoded data removed]",
      "text/plain": [
       "<Figure size 640x480 with 1 Axes>"
      ]
     },
     "metadata": {},
     "output_type": "display_data"
    }
   ],
   "source": [
    "df[df.TOKENS.astype(str) != '[]'].TOKENS.value_counts().head(20).plot(kind=\"bar\")"
   ]
  },
  {
   "cell_type": "markdown",
   "metadata": {},
   "source": [
    "***\n",
    "## Loading, Creating & Saving Files\n",
    "\n",
    "There are a plethora of ways to both load in existing *ELAN* files (those ending with the `.eaf` extension and follow its XML rules) and create new ones using `elan_data`.\n",
    "\n",
    "### Loading Existing Files"
   ]
  },
  {
   "cell_type": "code",
   "execution_count": 10,
   "metadata": {},
   "outputs": [
    {
     "data": {
      "text/plain": [
       "True"
      ]
     },
     "execution_count": 10,
     "metadata": {},
     "output_type": "execute_result"
    }
   ],
   "source": [
    "# From standard ELAN files\n",
    "FILE = \"./datasets/ATL_se0_ag1_f_02_1.eaf\"\n",
    "\n",
    "# Both string and path options\n",
    "eaf_1 = ELAN_Data.from_file(file=FILE)\n",
    "eaf_2 = ELAN_Data.from_file(file=Path(FILE))\n",
    "\n",
    "eaf_1 == eaf_2"
   ]
  },
  {
   "cell_type": "markdown",
   "metadata": {},
   "source": [
    "Note however that it only checks the following attributes upon comparison through the dunder `__eq__()` method:\n",
    "\n",
    "```python\n",
    "@typing.no_type_check\n",
    "def __eq__(self, other: object) -> bool:\n",
    "\n",
    "    if type(self).__name__ != type(other).__name__:\n",
    "        return NotImplemented\n",
    "\n",
    "    self.df_status = True\n",
    "    other.df_status = True\n",
    "\n",
    "    return self.file == other.file and self.audio == other.audio \\\n",
    "        and self._tier_names == other.tier_names and self.tier_data.equals(other.tier_data) \\\n",
    "        and self._modified == other.modified  # Trees is a redundant check and not guaranteed\n",
    "```\n",
    "\n",
    "This is because trees *seem* to not be evaluated in the same way as the other attributes and differing tree structures can produce the same *ELAN* file. If two structures loaded from the same file were changed differently, the other attributes *should* catch it."
   ]
  },
  {
   "cell_type": "markdown",
   "metadata": {},
   "source": [
    "### Loading through Other Formats\n",
    "\n",
    "We can also load data from different sources; this can then be used to create new *ELAN* files afterwards. Note, however, that for a dataframe, it needs to have all the columns specified in the `ELAN_Data.tiers_data` instance."
   ]
  },
  {
   "cell_type": "code",
   "execution_count": 11,
   "metadata": {},
   "outputs": [
    {
     "data": {
      "text/plain": [
       "False"
      ]
     },
     "execution_count": 11,
     "metadata": {},
     "output_type": "execute_result"
    }
   ],
   "source": [
    "# Let's make a new eaf instance through a pandas DataFrame\n",
    "eaf_3 = ELAN_Data.from_dataframe(df=eaf_2.init_dataframe(), file=\"new.eaf\")\n",
    "\n",
    "# This eaf will not have a lot of the properties the other two had\n",
    "# It uses ONLY the DataFrame to instantiate itself and relies on \n",
    "# the user to fill in the rest if needed\n",
    "eaf_3 == eaf_1"
   ]
  },
  {
   "cell_type": "code",
   "execution_count": 12,
   "metadata": {},
   "outputs": [
    {
     "name": "stdout",
     "output_type": "stream",
     "text": [
      "name: new.eaf\n",
      "located at: /home/computer_cat/Documents/Programs/Python/elan_data/tutorials/new.eaf\n",
      "tiers: default, ATL_se0_ag1_f_02, ATL_int_01\n",
      "associated audio file: None\n",
      "associated audio location: None\n",
      "dataframe init: True\n",
      "modified: True\n",
      "\n"
     ]
    }
   ],
   "source": [
    "# Notice how the DataFrame is guaranteed to be initialized along with the ELAN_Data object\n",
    "print(eaf_3)"
   ]
  }
 ],
 "metadata": {
  "kernelspec": {
   "display_name": "elan_data",
   "language": "python",
   "name": "python3"
  },
  "language_info": {
   "codemirror_mode": {
    "name": "ipython",
    "version": 3
   },
   "file_extension": ".py",
   "mimetype": "text/x-python",
   "name": "python",
   "nbconvert_exporter": "python",
   "pygments_lexer": "ipython3",
   "version": "3.9.0"
  },
  "orig_nbformat": 4
 },
 "nbformat": 4,
 "nbformat_minor": 2
}
